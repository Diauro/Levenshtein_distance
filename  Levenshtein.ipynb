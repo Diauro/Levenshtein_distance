{
 "cells": [
  {
   "cell_type": "code",
   "execution_count": 1,
   "id": "135144ae",
   "metadata": {},
   "outputs": [],
   "source": [
    "#Levenshtein distance"
   ]
  },
  {
   "cell_type": "code",
   "execution_count": 2,
   "id": "36fc3f52",
   "metadata": {},
   "outputs": [],
   "source": [
    "import numpy as np\n",
    "import pandas as pd\n",
    "def levenshteindist(string1, string2):\n",
    "\n",
    "    substitution = 0\n",
    "    n = len(string1)+1\n",
    "    m = len(string2)+1\n",
    "    \n",
    "    d = np.zeros((n,m), dtype = 'int')\n",
    "    d[:,0] = range(n)\n",
    "    d[0,:] = range(m)\n",
    "\n",
    "    \n",
    "    for j in range(1,m):\n",
    "        for i in range(1,n):\n",
    "            if string1[i-1] == string2[j-1]:\n",
    "                substitution = 0\n",
    "            else:\n",
    "                substitution = 1\n",
    "            d[i,j] = min(d[i-1,j] +1, d[i,j-1] + 1, d[i-1, j-1] + substitution)  \n",
    "    return d[i,j], string2"
   ]
  },
  {
   "cell_type": "code",
   "execution_count": 3,
   "id": "bbcd6f51",
   "metadata": {},
   "outputs": [
    {
     "name": "stdout",
     "output_type": "stream",
     "text": [
      "8574\n"
     ]
    },
    {
     "data": {
      "text/plain": [
       "0                           Ituma\n",
       "1        \"Bo\" Bendy of Treegarden\n",
       "2           \"Bobby\" Lord Sinclair\n",
       "3      \"Buddy\" Fortheringhay's J.\n",
       "4    \"Fly\" Showring i fly for you\n",
       "Name: HUNDENAME, dtype: object"
      ]
     },
     "execution_count": 3,
     "metadata": {},
     "output_type": "execute_result"
    }
   ],
   "source": [
    "df = pd.read_csv('20210103_hundenamen.csv') \n",
    "names = df[df.columns[0]]\n",
    "print(len(names))\n",
    "names.head()"
   ]
  },
  {
   "cell_type": "code",
   "execution_count": 4,
   "id": "6c9ac0c1",
   "metadata": {},
   "outputs": [
    {
     "name": "stdout",
     "output_type": "stream",
     "text": [
      "{'Luba', 'Lua', 'Lucy', 'Cuca', 'Lucas', 'Lula', 'Yuca', 'Luna', 'Lucia', 'Luce', 'Luma', 'Lupa'}\n"
     ]
    }
   ],
   "source": [
    "list_names = []\n",
    "for i in range(len(names)):\n",
    "    dist,name = levenshteindist('Luca', names[i])\n",
    "    if dist == 1:\n",
    "        list_names.append(name)\n",
    "    else:\n",
    "        pass\n",
    "unique_names = set(list_names)\n",
    "print(unique_names)"
   ]
  },
  {
   "cell_type": "code",
   "execution_count": null,
   "id": "f84c55ed",
   "metadata": {},
   "outputs": [],
   "source": []
  }
 ],
 "metadata": {
  "kernelspec": {
   "display_name": "Python 3",
   "language": "python",
   "name": "python3"
  },
  "language_info": {
   "codemirror_mode": {
    "name": "ipython",
    "version": 3
   },
   "file_extension": ".py",
   "mimetype": "text/x-python",
   "name": "python",
   "nbconvert_exporter": "python",
   "pygments_lexer": "ipython3",
   "version": "3.8.10"
  }
 },
 "nbformat": 4,
 "nbformat_minor": 5
}
